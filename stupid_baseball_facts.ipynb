{
 "cells": [
  {
   "cell_type": "code",
   "execution_count": 156,
   "metadata": {
    "collapsed": false
   },
   "outputs": [],
   "source": [
    "# pull data from wikipedia\n",
    "import requests\n",
    "r = requests.get('https://en.wikipedia.org/w/api.php?action=parse&page=List_of_Major_League_Baseball_players_to_hit_for_the_cycle&section=1&prop=text&format=json')\n",
    "rj = r.json()"
   ]
  },
  {
   "cell_type": "code",
   "execution_count": 157,
   "metadata": {
    "collapsed": false
   },
   "outputs": [],
   "source": [
    "# convert table into JSON object\n",
    "from bs4 import BeautifulSoup\n",
    "o_html = BeautifulSoup(rj['parse']['text']['*'], 'lxml')\n",
    "o_table = o_html.find('table', attrs = {'class' : 'wikitable sortable plainrowheaders'})\n",
    "o_headers = o_table.findAll('th', scope='col')\n",
    "table_data = [{o_headers[i].text: cell.get_text('|') for i, cell in enumerate(row.findAll(recursive=False))} for row in o_table.find_all(\"tr\")]\n",
    "# delete the first row since it's just the table headers\n",
    "del table_data[0]"
   ]
  },
  {
   "cell_type": "code",
   "execution_count": 158,
   "metadata": {
    "collapsed": false
   },
   "outputs": [
    {
     "data": {
      "text/html": [
       "<div>\n",
       "<table border=\"1\" class=\"dataframe\">\n",
       "  <thead>\n",
       "    <tr style=\"text-align: right;\">\n",
       "      <th></th>\n",
       "      <th>Count</th>\n",
       "    </tr>\n",
       "  </thead>\n",
       "  <tbody>\n",
       "    <tr>\n",
       "      <th>American Association</th>\n",
       "      <td>17</td>\n",
       "    </tr>\n",
       "    <tr>\n",
       "      <th>Federal League</th>\n",
       "      <td>1</td>\n",
       "    </tr>\n",
       "    <tr>\n",
       "      <th>American League</th>\n",
       "      <td>134</td>\n",
       "    </tr>\n",
       "    <tr>\n",
       "      <th>National League</th>\n",
       "      <td>161</td>\n",
       "    </tr>\n",
       "    <tr>\n",
       "      <th>Players' League</th>\n",
       "      <td>1</td>\n",
       "    </tr>\n",
       "  </tbody>\n",
       "</table>\n",
       "</div>"
      ],
      "text/plain": [
       "                      Count\n",
       "American Association     17\n",
       "Federal League            1\n",
       "American League         134\n",
       "National League         161\n",
       "Players' League           1"
      ]
     },
     "execution_count": 158,
     "metadata": {},
     "output_type": "execute_result"
    }
   ],
   "source": [
    "# table_data row format\n",
    "#{u'Date': u'Date',\n",
    "# u'League': u'League',\n",
    "# u'Opponent': u'Opponent',\n",
    "# u'Player': u'Player',\n",
    "# u'Ref': u'Ref',\n",
    "# u'Team': u'Team'}\n",
    "\n",
    "from collections import Counter\n",
    "from pandas import DataFrame\n",
    "df = DataFrame.from_dict(Counter(k['League'] for k in table_data if k.get('League')), orient='index').rename(columns={0:'Count'})\n",
    "df"
   ]
  },
  {
   "cell_type": "code",
   "execution_count": null,
   "metadata": {
    "collapsed": true
   },
   "outputs": [],
   "source": []
  }
 ],
 "metadata": {
  "kernelspec": {
   "display_name": "Python 2",
   "language": "python",
   "name": "python2"
  },
  "language_info": {
   "codemirror_mode": {
    "name": "ipython",
    "version": 2
   },
   "file_extension": ".py",
   "mimetype": "text/x-python",
   "name": "python",
   "nbconvert_exporter": "python",
   "pygments_lexer": "ipython2",
   "version": "2.7.13"
  }
 },
 "nbformat": 4,
 "nbformat_minor": 2
}
